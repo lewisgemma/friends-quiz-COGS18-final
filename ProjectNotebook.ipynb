{
 "cells": [
  {
   "cell_type": "markdown",
   "id": "progressive-serum",
   "metadata": {},
   "source": [
    "## Project Description"
   ]
  },
  {
   "cell_type": "markdown",
   "id": "human-venezuela",
   "metadata": {},
   "source": [
    "In this project, you may take a quiz to test your knowledge of the television show *Friends*. Once completed, your score will be calculated. And for an extra bonus, you can generate a random song that Phoebe has performed.\n",
    "\n",
    "Therefore, below are four functions. The first is to format the user's answers in case they make a typo. Following this, is a function to provide the test itself. Third, is a function that will calculate the user's score. And fourth, is a function that will output a random song of Phoebe's after shuffling through a list of options. Last but not least, there are four test functions that silently pass to ensure everything ran successfully.\n",
    "\n",
    "Voila!"
   ]
  },
  {
   "cell_type": "markdown",
   "id": "continued-occurrence",
   "metadata": {},
   "source": [
    "## Project Code"
   ]
  },
  {
   "cell_type": "code",
   "execution_count": 1,
   "id": "military-intake",
   "metadata": {},
   "outputs": [],
   "source": [
    "import random\n",
    "from my_module.functions import *\n",
    "from my_module.test_functions import *"
   ]
  },
  {
   "cell_type": "markdown",
   "id": "acting-replacement",
   "metadata": {},
   "source": [
    "Run the cell below to take the *Friends* test! Please only enter single character responses: A, B, C, or D. "
   ]
  },
  {
   "cell_type": "code",
   "execution_count": 3,
   "id": "continental-deposit",
   "metadata": {},
   "outputs": [
    {
     "name": "stdout",
     "output_type": "stream",
     "text": [
      "\n",
      "Whose babies did Phoebe give birth to?\n",
      "\n",
      "A. Joey's\n",
      "B. Mike's\n",
      "C. David's\n",
      "D. Her brother's\n",
      "\n",
      "Answer: a\n",
      "\n",
      "How many Friends are there?\n",
      "\n",
      "A. 3\n",
      "B. 5\n",
      "C. 6\n",
      "D. 4\n",
      "\n",
      "Answer: a\n",
      "\n",
      "Where did Mike intially propose to Phoebe?\n",
      "\n",
      "A. Barbados\n",
      "B. Costa Rica\n",
      "C. The coffee shop\n",
      "D. A restaurant\n",
      "\n",
      "Answer: d\n",
      "\n",
      "What did Ross and Rachel name their baby?\n",
      "\n",
      "A. Molly\n",
      "B. Grace\n",
      "C. Emma\n",
      "D. Elizabeth\n",
      "\n",
      "Answer: d\n",
      "\n",
      "Which relationship made Ross so drunk that he held a dish out of the oven with no mits?\n",
      "\n",
      "A. Charlie back with her ex Benjy\n",
      "B. Chandler & Monica\n",
      "C. Rachel & Elizabeth's dad\n",
      "D. Rachel & Joey\n",
      "\n",
      "Answer: d\n",
      "\n",
      "What color dress did Rachel decide on in *The One Where No One Was Ready*?\n",
      "\n",
      "A. Yellow\n",
      "B. Beige\n",
      "C. Lavender\n",
      "D. Green\n",
      "\n",
      "Answer: xa\n",
      "\n",
      "Which trivia question made Monica & Rachel loose their apartment over to Chandler & Joey?\n",
      "\n",
      "A. How many sisters does Joey have?\n",
      "B. How many women has Chandler slept with?\n",
      "C. What's Chandler's job?\n",
      "D. What's Joey's favorite kind of sandwich?\n",
      "\n",
      "Answer:  d\n",
      "\n",
      "In regards to Phoebe: which of the following is not true?\n",
      "\n",
      "A. She believed her mom was reincarnated as a cat\n",
      "B. She stalked her twin's stalker\n",
      "C. She robbed Chandler on the street\n",
      "D. She was offered to be made into a popstar from her song, *Smelly Cat*\n",
      "\n",
      "Answer: d\n",
      "\n",
      "How would you describe Joey?\n",
      "\n",
      "A. A *player*\n",
      "B. An intellectual\n",
      "C. A socialite\n",
      "D. A hermit\n",
      "\n",
      "Answer: d\n",
      "\n",
      "From what does Chandler's humor stem from?\n",
      "\n",
      "A. His innate tendencies to people-please\n",
      "B. A defense mechanism from his parent's divorce\n",
      "C. An attempt to maintain his friends as he didn't have many growing up\n",
      "D. Tribute to his favorite comedians\n",
      "\n",
      "Answer: d\n",
      "Please submit a single character answer for your multiple choice response (A, B, C, or D)\n"
     ]
    }
   ],
   "source": [
    "your_answers = test()"
   ]
  },
  {
   "cell_type": "code",
   "execution_count": 4,
   "id": "specific-armenia",
   "metadata": {},
   "outputs": [
    {
     "name": "stdout",
     "output_type": "stream",
     "text": [
      "YOU MADE A TYPO! \n",
      "\n",
      "Please retake the quiz and submit ONLY A, B, C, or D for answers.\n"
     ]
    }
   ],
   "source": [
    "calculate_score(your_answers)"
   ]
  },
  {
   "cell_type": "markdown",
   "id": "asian-needle",
   "metadata": {},
   "source": [
    "I hope you enjoyed this quiz! Run the function below to sample a tune from the fan favorite *Phoebe*!"
   ]
  },
  {
   "cell_type": "code",
   "execution_count": 6,
   "id": "welcome-understanding",
   "metadata": {},
   "outputs": [
    {
     "data": {
      "text/plain": [
       "\"Song: Smelly Cat                                                                                                    Chorus: Smelly Cat, Smelly Cat, What are they feeding you? Smelly Cat, Smelly Cat, It's not your fault\""
      ]
     },
     "execution_count": 6,
     "metadata": {},
     "output_type": "execute_result"
    }
   ],
   "source": [
    "phoebe_song()"
   ]
  },
  {
   "cell_type": "code",
   "execution_count": 13,
   "id": "preceding-mileage",
   "metadata": {},
   "outputs": [],
   "source": [
    "test_format_answers()\n",
    "test_test()\n",
    "test_phoebe_song()\n",
    "test_calculate_score(your_answers)"
   ]
  },
  {
   "cell_type": "markdown",
   "id": "gorgeous-reset",
   "metadata": {},
   "source": [
    "### Extra Credit (optional)¶\n",
    "\n",
    "Prior to this class, I had no Python experience! This class was quite the challenge, but I am super grateful and proud to now have a foundation in a computer programming language. The hard work definitely paid off. I went above and beyond the requirements by adding an extra function and an extra test function. Furthermore, I challenged myself by incorporating f-String notation, using a zip within a for loop, and reading the documentation to learn new approaches to problems I was unsure about. "
   ]
  },
  {
   "cell_type": "markdown",
   "id": "overhead-automation",
   "metadata": {},
   "source": [
    "<br><br><br><br>"
   ]
  }
 ],
 "metadata": {
  "kernelspec": {
   "display_name": "Python 3",
   "language": "python",
   "name": "python3"
  },
  "language_info": {
   "codemirror_mode": {
    "name": "ipython",
    "version": 3
   },
   "file_extension": ".py",
   "mimetype": "text/x-python",
   "name": "python",
   "nbconvert_exporter": "python",
   "pygments_lexer": "ipython3",
   "version": "3.8.6"
  }
 },
 "nbformat": 4,
 "nbformat_minor": 5
}
